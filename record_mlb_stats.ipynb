{
 "cells": [
  {
   "cell_type": "code",
   "execution_count": 99,
   "metadata": {},
   "outputs": [
    {
     "name": "stdout",
     "output_type": "stream",
     "text": [
      "The autoreload extension is already loaded. To reload it, use:\n",
      "  %reload_ext autoreload\n"
     ]
    }
   ],
   "source": [
    "%load_ext autoreload\n",
    "%autoreload 2"
   ]
  },
  {
   "cell_type": "code",
   "execution_count": 100,
   "metadata": {},
   "outputs": [],
   "source": [
    "import statsapi\n",
    "import pandas as pd\n",
    "import numpy as np\n",
    "from pathlib import Path\n",
    "from tqdm import tqdm"
   ]
  },
  {
   "cell_type": "code",
   "execution_count": 101,
   "metadata": {},
   "outputs": [],
   "source": [
    "start_date = '07/01/2023'  # mm/dd/yyyy\n",
    "end_date = '08/25/2023'  # mm/dd/yyyy\n",
    "data_dir = Path('data')  # path/to/save/location"
   ]
  },
  {
   "cell_type": "code",
   "execution_count": 102,
   "metadata": {},
   "outputs": [],
   "source": [
    "stats_games = pd.DataFrame(statsapi.schedule(date=None, start_date=start_date, end_date=end_date, team=\"\", opponent=\"\", sportId=1, game_id=None))\n",
    "pitchers = pd.concat([stats_games.winning_pitcher, stats_games.losing_pitcher], ignore_index=True).unique()"
   ]
  },
  {
   "cell_type": "code",
   "execution_count": 103,
   "metadata": {},
   "outputs": [
    {
     "name": "stderr",
     "output_type": "stream",
     "text": [
      "  5%|▌         | 10/200 [00:11<03:40,  1.16s/it]"
     ]
    }
   ],
   "source": [
    "stats_pitchers = []\n",
    "for pitcher_name in tqdm(pitchers):\n",
    "    try:\n",
    "        pitcher_id = statsapi.lookup_player(pitcher_name)[0]['id']\n",
    "        stats = statsapi.player_stat_data(pitcher_id, group=\"[pitching]\", type=\"season\", sportId=1)\n",
    "        \n",
    "        stats_pitchers.append({\n",
    "            'pitcher_id': pitcher_id,\n",
    "            'pitcher_name': pitcher_name,\n",
    "            'current_team': stats['current_team'],\n",
    "            'position': stats['position'],\n",
    "            'pitch_hand': stats['pitch_hand'],\n",
    "            'games_started': stats['stats'][0]['stats']['gamesStarted']        \n",
    "        })\n",
    "    except:\n",
    "        pass\n",
    "    \n",
    "    "
   ]
  },
  {
   "cell_type": "code",
   "execution_count": null,
   "metadata": {},
   "outputs": [],
   "source": [
    "stats_games.to_csv('stats_games')\n",
    "stats_pitchers.to_csv('stats_pitchers')"
   ]
  }
 ],
 "metadata": {
  "kernelspec": {
   "display_name": "betfair",
   "language": "python",
   "name": "python3"
  },
  "language_info": {
   "codemirror_mode": {
    "name": "ipython",
    "version": 3
   },
   "file_extension": ".py",
   "mimetype": "text/x-python",
   "name": "python",
   "nbconvert_exporter": "python",
   "pygments_lexer": "ipython3",
   "version": "3.10.11"
  },
  "orig_nbformat": 4
 },
 "nbformat": 4,
 "nbformat_minor": 2
}
