{
 "cells": [
  {
   "cell_type": "code",
   "execution_count": 1,
   "metadata": {},
   "outputs": [],
   "source": [
    "%load_ext autoreload\n",
    "%autoreload 2"
   ]
  },
  {
   "cell_type": "code",
   "execution_count": 2,
   "metadata": {},
   "outputs": [],
   "source": [
    "import statsapi\n",
    "import pandas as pd\n",
    "import numpy as np\n",
    "from pathlib import Path\n",
    "from tqdm import tqdm"
   ]
  },
  {
   "cell_type": "code",
   "execution_count": 3,
   "metadata": {},
   "outputs": [],
   "source": [
    "start_date = '02/01/2023'  # mm/dd/yyyy\n",
    "end_date = '10/01/2023'  # mm/dd/yyyy\n",
    "data_dir = Path('data')  # path/to/save/location"
   ]
  },
  {
   "cell_type": "code",
   "execution_count": 4,
   "metadata": {},
   "outputs": [],
   "source": [
    "stats_games = pd.DataFrame(statsapi.schedule(date=None, start_date=start_date, end_date=end_date, team=\"\", opponent=\"\", sportId=1, game_id=None))\n",
    "pitchers = pd.concat([stats_games.winning_pitcher, stats_games.losing_pitcher], ignore_index=True).unique()"
   ]
  },
  {
   "cell_type": "code",
   "execution_count": 5,
   "metadata": {},
   "outputs": [
    {
     "name": "stderr",
     "output_type": "stream",
     "text": [
      "100%|██████████| 799/799 [11:53<00:00,  1.12it/s]\n"
     ]
    }
   ],
   "source": [
    "stats_pitchers = []\n",
    "for pitcher_name in tqdm(pitchers):\n",
    "    try:\n",
    "        pitcher_id = statsapi.lookup_player(pitcher_name)[0]['id']\n",
    "        stats = statsapi.player_stat_data(pitcher_id, group=\"[pitching]\", type=\"season\", sportId=1)\n",
    "        \n",
    "        stats_pitchers.append({\n",
    "            'pitcher_id': pitcher_id,\n",
    "            'pitcher_name': pitcher_name,\n",
    "            'current_team': stats['current_team'],\n",
    "            'position': stats['position'],\n",
    "            'pitch_hand': stats['pitch_hand'],\n",
    "            'games_started': stats['stats'][0]['stats']['gamesStarted']        \n",
    "        })\n",
    "    except:\n",
    "        pass\n",
    "    \n",
    "    "
   ]
  },
  {
   "cell_type": "code",
   "execution_count": 7,
   "metadata": {},
   "outputs": [],
   "source": [
    "stats_pitchers = pd.DataFrame(stats_pitchers)"
   ]
  },
  {
   "cell_type": "code",
   "execution_count": 9,
   "metadata": {},
   "outputs": [
    {
     "data": {
      "text/html": [
       "<div>\n",
       "<style scoped>\n",
       "    .dataframe tbody tr th:only-of-type {\n",
       "        vertical-align: middle;\n",
       "    }\n",
       "\n",
       "    .dataframe tbody tr th {\n",
       "        vertical-align: top;\n",
       "    }\n",
       "\n",
       "    .dataframe thead th {\n",
       "        text-align: right;\n",
       "    }\n",
       "</style>\n",
       "<table border=\"1\" class=\"dataframe\">\n",
       "  <thead>\n",
       "    <tr style=\"text-align: right;\">\n",
       "      <th></th>\n",
       "      <th>pitcher_id</th>\n",
       "      <th>pitcher_name</th>\n",
       "      <th>current_team</th>\n",
       "      <th>position</th>\n",
       "      <th>pitch_hand</th>\n",
       "      <th>games_started</th>\n",
       "    </tr>\n",
       "  </thead>\n",
       "  <tbody>\n",
       "    <tr>\n",
       "      <th>0</th>\n",
       "      <td>661395</td>\n",
       "      <td>Jhoan Duran</td>\n",
       "      <td>Minnesota Twins</td>\n",
       "      <td>P</td>\n",
       "      <td>Right</td>\n",
       "      <td>0</td>\n",
       "    </tr>\n",
       "    <tr>\n",
       "      <th>1</th>\n",
       "      <td>472551</td>\n",
       "      <td>NaN</td>\n",
       "      <td>Colorado Rockies</td>\n",
       "      <td>P</td>\n",
       "      <td>Left</td>\n",
       "      <td>0</td>\n",
       "    </tr>\n",
       "    <tr>\n",
       "      <th>2</th>\n",
       "      <td>605130</td>\n",
       "      <td>Scott Barlow</td>\n",
       "      <td>Kansas City Royals</td>\n",
       "      <td>P</td>\n",
       "      <td>Right</td>\n",
       "      <td>0</td>\n",
       "    </tr>\n",
       "    <tr>\n",
       "      <th>3</th>\n",
       "      <td>656353</td>\n",
       "      <td>Tucker Davidson</td>\n",
       "      <td>Los Angeles Angels</td>\n",
       "      <td>P</td>\n",
       "      <td>Left</td>\n",
       "      <td>0</td>\n",
       "    </tr>\n",
       "    <tr>\n",
       "      <th>4</th>\n",
       "      <td>665625</td>\n",
       "      <td>Elvis Peguero</td>\n",
       "      <td>Milwaukee Brewers</td>\n",
       "      <td>P</td>\n",
       "      <td>Right</td>\n",
       "      <td>0</td>\n",
       "    </tr>\n",
       "    <tr>\n",
       "      <th>...</th>\n",
       "      <td>...</td>\n",
       "      <td>...</td>\n",
       "      <td>...</td>\n",
       "      <td>...</td>\n",
       "      <td>...</td>\n",
       "      <td>...</td>\n",
       "    </tr>\n",
       "    <tr>\n",
       "      <th>355</th>\n",
       "      <td>663362</td>\n",
       "      <td>Matt Waldron</td>\n",
       "      <td>El Paso Chihuahuas</td>\n",
       "      <td>P</td>\n",
       "      <td>Right</td>\n",
       "      <td>1</td>\n",
       "    </tr>\n",
       "    <tr>\n",
       "      <th>356</th>\n",
       "      <td>676265</td>\n",
       "      <td>Cory Abbott</td>\n",
       "      <td>Washington Nationals</td>\n",
       "      <td>P</td>\n",
       "      <td>Right</td>\n",
       "      <td>0</td>\n",
       "    </tr>\n",
       "    <tr>\n",
       "      <th>357</th>\n",
       "      <td>519008</td>\n",
       "      <td>T.J. McFarland</td>\n",
       "      <td>New York Mets</td>\n",
       "      <td>P</td>\n",
       "      <td>Left</td>\n",
       "      <td>0</td>\n",
       "    </tr>\n",
       "    <tr>\n",
       "      <th>358</th>\n",
       "      <td>607074</td>\n",
       "      <td>Carlos Rodon</td>\n",
       "      <td>New York Yankees</td>\n",
       "      <td>P</td>\n",
       "      <td>Left</td>\n",
       "      <td>1</td>\n",
       "    </tr>\n",
       "    <tr>\n",
       "      <th>359</th>\n",
       "      <td>681517</td>\n",
       "      <td>Kyle Leahy</td>\n",
       "      <td>St. Louis Cardinals</td>\n",
       "      <td>P</td>\n",
       "      <td>Right</td>\n",
       "      <td>0</td>\n",
       "    </tr>\n",
       "  </tbody>\n",
       "</table>\n",
       "<p>360 rows × 6 columns</p>\n",
       "</div>"
      ],
      "text/plain": [
       "     pitcher_id     pitcher_name          current_team position pitch_hand  \\\n",
       "0        661395      Jhoan Duran       Minnesota Twins        P      Right   \n",
       "1        472551              NaN      Colorado Rockies        P       Left   \n",
       "2        605130     Scott Barlow    Kansas City Royals        P      Right   \n",
       "3        656353  Tucker Davidson    Los Angeles Angels        P       Left   \n",
       "4        665625    Elvis Peguero     Milwaukee Brewers        P      Right   \n",
       "..          ...              ...                   ...      ...        ...   \n",
       "355      663362     Matt Waldron    El Paso Chihuahuas        P      Right   \n",
       "356      676265      Cory Abbott  Washington Nationals        P      Right   \n",
       "357      519008   T.J. McFarland         New York Mets        P       Left   \n",
       "358      607074     Carlos Rodon      New York Yankees        P       Left   \n",
       "359      681517       Kyle Leahy   St. Louis Cardinals        P      Right   \n",
       "\n",
       "     games_started  \n",
       "0                0  \n",
       "1                0  \n",
       "2                0  \n",
       "3                0  \n",
       "4                0  \n",
       "..             ...  \n",
       "355              1  \n",
       "356              0  \n",
       "357              0  \n",
       "358              1  \n",
       "359              0  \n",
       "\n",
       "[360 rows x 6 columns]"
      ]
     },
     "execution_count": 9,
     "metadata": {},
     "output_type": "execute_result"
    }
   ],
   "source": [
    "stats_pitchers"
   ]
  },
  {
   "cell_type": "code",
   "execution_count": 16,
   "metadata": {},
   "outputs": [],
   "source": [
    "stats_games.to_csv(data_dir / 'stats_games.csv')\n",
    "stats_pitchers.to_csv(data_dir / 'stats_pitchers.csv')"
   ]
  }
 ],
 "metadata": {
  "kernelspec": {
   "display_name": "betfair",
   "language": "python",
   "name": "python3"
  },
  "language_info": {
   "codemirror_mode": {
    "name": "ipython",
    "version": 3
   },
   "file_extension": ".py",
   "mimetype": "text/x-python",
   "name": "python",
   "nbconvert_exporter": "python",
   "pygments_lexer": "ipython3",
   "version": "3.10.11"
  },
  "orig_nbformat": 4
 },
 "nbformat": 4,
 "nbformat_minor": 2
}
