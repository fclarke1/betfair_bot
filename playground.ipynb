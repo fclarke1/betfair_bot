{
 "cells": [
  {
   "cell_type": "code",
   "execution_count": 1,
   "metadata": {},
   "outputs": [],
   "source": [
    "%load_ext autoreload\n",
    "%autoreload 2"
   ]
  },
  {
   "cell_type": "code",
   "execution_count": 2,
   "metadata": {},
   "outputs": [],
   "source": [
    "from bf_utils import client, utils\n",
    "import pandas as pd"
   ]
  },
  {
   "cell_type": "code",
   "execution_count": 10,
   "metadata": {},
   "outputs": [],
   "source": [
    "# create dict of csv locations\n",
    "file_paths = {\n",
    "    'events': 'data/test/events.csv',\n",
    "    'marketCatalogue': 'data/test/marketCatalogue.csv',\n",
    "    'runnerCatalogue': 'data/test/runnerCatalogue.csv',\n",
    "    'runnerPrice': 'data/test/runnerPrice.csv'\n",
    "}"
   ]
  },
  {
   "cell_type": "code",
   "execution_count": 4,
   "metadata": {},
   "outputs": [],
   "source": [
    "bf_client = client.BetfairClient(path_creds='certs/credentials.json')\n",
    "# record data\n",
    "bf_client.login()"
   ]
  },
  {
   "cell_type": "code",
   "execution_count": 5,
   "metadata": {},
   "outputs": [],
   "source": [
    "# get baseball's event id\n",
    "bf_client.set_my_event_type('Baseball')\n",
    "# get baseball events\n",
    "events = bf_client.get_events()"
   ]
  },
  {
   "cell_type": "code",
   "execution_count": 6,
   "metadata": {},
   "outputs": [],
   "source": [
    "# get market and runner data\n",
    "market_catalogue, runner_catalogue = bf_client.get_market_runner_catalogues(\n",
    "    event_ids=events['id'].tolist(),\n",
    "    market_type_codes=['COMBINED_TOTAL', 'MATCH_ODDS'],\n",
    "    market_betting_types=['ODDS']\n",
    ")"
   ]
  },
  {
   "cell_type": "code",
   "execution_count": 7,
   "metadata": {},
   "outputs": [],
   "source": [
    "# get market_ids that haven't started yet\n",
    "market_ids = utils.get_non_started_market_ids(market_catalogue=market_catalogue)\n",
    "\n",
    "# get the odds for each runner\n",
    "runner_prices = bf_client.get_runner_odds(market_ids=market_ids)"
   ]
  },
  {
   "cell_type": "code",
   "execution_count": null,
   "metadata": {},
   "outputs": [],
   "source": [
    "# save the new data since last refresh\n",
    "utils.save_rows(file_path=file_paths['events'], data=events)\n",
    "utils.save_rows(file_path=file_paths['marketCatalogue'], data=market_catalogue)\n",
    "utils.save_rows(file_path=file_paths['runnerCatalogue'], data=runner_catalogue, id_col='market_id')\n",
    "utils.save_rows(file_path=file_paths['runnerPrice'], data=runner_prices, is_save_only_new_data=False)"
   ]
  }
 ],
 "metadata": {
  "kernelspec": {
   "display_name": "pi-env",
   "language": "python",
   "name": "python3"
  },
  "language_info": {
   "codemirror_mode": {
    "name": "ipython",
    "version": 3
   },
   "file_extension": ".py",
   "mimetype": "text/x-python",
   "name": "python",
   "nbconvert_exporter": "python",
   "pygments_lexer": "ipython3",
   "version": "3.9.2"
  },
  "orig_nbformat": 4
 },
 "nbformat": 4,
 "nbformat_minor": 2
}
