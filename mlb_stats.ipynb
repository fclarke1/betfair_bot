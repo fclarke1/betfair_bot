{
 "cells": [
  {
   "cell_type": "code",
   "execution_count": 2,
   "metadata": {},
   "outputs": [],
   "source": [
    "%load_ext autoreload\n",
    "%autoreload 2"
   ]
  },
  {
   "cell_type": "code",
   "execution_count": 1,
   "metadata": {},
   "outputs": [],
   "source": [
    "import statsapi"
   ]
  },
  {
   "cell_type": "code",
   "execution_count": 3,
   "metadata": {},
   "outputs": [
    {
     "name": "stdout",
     "output_type": "stream",
     "text": [
      "The A's won 111 games in 2018.\n"
     ]
    }
   ],
   "source": [
    "print('The A\\'s won %s games in 2018.' % sum(1 for x in statsapi.schedule(team=133,start_date='01/01/2018',end_date='12/31/2018') if x.get('winning_team','')=='Oakland Athletics'))"
   ]
  },
  {
   "cell_type": "code",
   "execution_count": 4,
   "metadata": {},
   "outputs": [],
   "source": [
    "result = statsapi.schedule(team=113,start_date='01/01/2018',end_date='12/31/2018')"
   ]
  },
  {
   "cell_type": "code",
   "execution_count": 23,
   "metadata": {},
   "outputs": [
    {
     "data": {
      "text/plain": [
       "{'game_id': 530696,\n",
       " 'game_datetime': '2018-07-04T23:10:00Z',\n",
       " 'game_date': '2018-07-04',\n",
       " 'game_type': 'R',\n",
       " 'status': 'Final',\n",
       " 'away_name': 'Chicago White Sox',\n",
       " 'home_name': 'Cincinnati Reds',\n",
       " 'away_id': 145,\n",
       " 'home_id': 113,\n",
       " 'doubleheader': 'N',\n",
       " 'game_num': 1,\n",
       " 'home_probable_pitcher': 'Sal Romano',\n",
       " 'away_probable_pitcher': 'Dylan Covey',\n",
       " 'home_pitcher_note': 'Romano (4-8) put together a gritty start despite not having his best stuff his last time out against the Brewers. He gave up two runs, but kept the game close, going five innings while giving up six singles and a solo home run with five strikeouts.',\n",
       " 'away_pitcher_note': 'Covey felt like he pitched better than the linescore showed in his last start (2 1/3 innings, eight earned vs. Texas). Since winning consecutive starts in the middle of June, he’s 0-2 with a 12.71 ERA in three starts.',\n",
       " 'away_score': 4,\n",
       " 'home_score': 7,\n",
       " 'current_inning': 9,\n",
       " 'inning_state': 'Top',\n",
       " 'venue_id': 2602,\n",
       " 'venue_name': 'Great American Ball Park',\n",
       " 'national_broadcasts': ['ESPN'],\n",
       " 'series_status': 'CIN wins 2-1',\n",
       " 'winning_team': 'Cincinnati Reds',\n",
       " 'losing_team': 'Chicago White Sox',\n",
       " 'winning_pitcher': 'Sal Romano',\n",
       " 'losing_pitcher': 'Dylan Covey',\n",
       " 'save_pitcher': 'Jared Hughes',\n",
       " 'summary': '2018-07-04 - Chicago White Sox (4) @ Cincinnati Reds (7) (Final)'}"
      ]
     },
     "execution_count": 23,
     "metadata": {},
     "output_type": "execute_result"
    }
   ],
   "source": [
    "result[120]"
   ]
  },
  {
   "cell_type": "code",
   "execution_count": 24,
   "metadata": {},
   "outputs": [
    {
     "name": "stdout",
     "output_type": "stream",
     "text": [
      "2024\n"
     ]
    }
   ],
   "source": [
    "season_data = statsapi.latest_season()\n",
    "print(season_data['seasonId'])"
   ]
  },
  {
   "cell_type": "code",
   "execution_count": 25,
   "metadata": {},
   "outputs": [
    {
     "data": {
      "text/plain": [
       "{'seasonId': '2024',\n",
       " 'hasWildcard': True,\n",
       " 'preSeasonStartDate': '2024-01-01',\n",
       " 'preSeasonEndDate': '2024-02-21',\n",
       " 'seasonStartDate': '2024-02-22',\n",
       " 'springStartDate': '2024-02-22',\n",
       " 'springEndDate': '2024-03-27',\n",
       " 'regularSeasonStartDate': '2024-03-28',\n",
       " 'lastDate1stHalf': '2024-07-14',\n",
       " 'allStarDate': '2024-07-16',\n",
       " 'firstDate2ndHalf': '2024-07-19',\n",
       " 'regularSeasonEndDate': '2024-09-29',\n",
       " 'postSeasonStartDate': '2024-10-01',\n",
       " 'postSeasonEndDate': '2024-10-31',\n",
       " 'seasonEndDate': '2024-10-31',\n",
       " 'offseasonStartDate': '2024-11-01',\n",
       " 'offSeasonEndDate': '2024-12-31',\n",
       " 'seasonLevelGamedayType': 'P',\n",
       " 'gameLevelGamedayType': 'P',\n",
       " 'qualifierPlateAppearances': 3.1,\n",
       " 'qualifierOutsPitched': 6000.0}"
      ]
     },
     "execution_count": 25,
     "metadata": {},
     "output_type": "execute_result"
    }
   ],
   "source": [
    "season_data"
   ]
  },
  {
   "cell_type": "code",
   "execution_count": 30,
   "metadata": {},
   "outputs": [],
   "source": [
    "result = statsapi.schedule(date=None, start_date='07/01/2023', end_date='08/25/2023', team=\"\", opponent=\"\", sportId=1, game_id=None)"
   ]
  },
  {
   "cell_type": "code",
   "execution_count": 51,
   "metadata": {},
   "outputs": [
    {
     "data": {
      "text/plain": [
       "{'game_id': 717418,\n",
       " 'game_datetime': '2023-07-14T22:05:00Z',\n",
       " 'game_date': '2023-07-14',\n",
       " 'game_type': 'R',\n",
       " 'status': 'Scheduled',\n",
       " 'away_name': 'San Diego Padres',\n",
       " 'home_name': 'Philadelphia Phillies',\n",
       " 'away_id': 135,\n",
       " 'home_id': 143,\n",
       " 'doubleheader': 'N',\n",
       " 'game_num': 1,\n",
       " 'home_probable_pitcher': 'Cristopher Sanchez',\n",
       " 'away_probable_pitcher': 'Yu Darvish',\n",
       " 'home_pitcher_note': '',\n",
       " 'away_pitcher_note': '',\n",
       " 'away_score': '0',\n",
       " 'home_score': '0',\n",
       " 'current_inning': '',\n",
       " 'inning_state': '',\n",
       " 'venue_id': 2681,\n",
       " 'venue_name': 'Citizens Bank Park',\n",
       " 'national_broadcasts': [],\n",
       " 'series_status': None,\n",
       " 'summary': '2023-07-14 - San Diego Padres @ Philadelphia Phillies (Scheduled)'}"
      ]
     },
     "execution_count": 51,
     "metadata": {},
     "output_type": "execute_result"
    }
   ],
   "source": [
    "result[129]"
   ]
  },
  {
   "cell_type": "code",
   "execution_count": 50,
   "metadata": {},
   "outputs": [
    {
     "data": {
      "text/plain": [
       "[{'id': 650911,\n",
       "  'fullName': 'Cristopher Sanchez',\n",
       "  'firstName': 'Cristopher',\n",
       "  'lastName': 'Sanchez',\n",
       "  'primaryNumber': '61',\n",
       "  'currentTeam': {'id': 143},\n",
       "  'primaryPosition': {'code': '1', 'abbreviation': 'P'},\n",
       "  'useName': 'Cristopher',\n",
       "  'boxscoreName': 'Sánchez, C',\n",
       "  'mlbDebutDate': '2021-06-06',\n",
       "  'nameFirstLast': 'Cristopher Sanchez',\n",
       "  'firstLastName': 'Cristopher Sánchez',\n",
       "  'lastFirstName': 'Sánchez, Cristopher',\n",
       "  'lastInitName': 'Sánchez, C',\n",
       "  'initLastName': 'C Sánchez',\n",
       "  'fullFMLName': 'Cristopher Alexis Sánchez',\n",
       "  'fullLFMName': 'Sánchez, Cristopher Alexis'}]"
      ]
     },
     "execution_count": 50,
     "metadata": {},
     "output_type": "execute_result"
    }
   ],
   "source": [
    "pitcher_name = result[129]['home_probable_pitcher']\n",
    "pitcher_info = statsapi.lookup_player(pitcher_name)\n",
    "pitcher_info"
   ]
  },
  {
   "cell_type": "code",
   "execution_count": 52,
   "metadata": {},
   "outputs": [
    {
     "data": {
      "text/plain": [
       "{'id': 650911,\n",
       " 'first_name': 'Cristopher',\n",
       " 'last_name': 'Sanchez',\n",
       " 'active': True,\n",
       " 'current_team': 'Philadelphia Phillies',\n",
       " 'position': 'P',\n",
       " 'nickname': None,\n",
       " 'last_played': None,\n",
       " 'mlb_debut': '2021-06-06',\n",
       " 'bat_side': 'Left',\n",
       " 'pitch_hand': 'Left',\n",
       " 'stats': [{'type': 'season',\n",
       "   'group': 'fielding',\n",
       "   'season': '2023',\n",
       "   'stats': {'gamesPlayed': 5,\n",
       "    'gamesStarted': 5,\n",
       "    'assists': 2,\n",
       "    'putOuts': 1,\n",
       "    'errors': 0,\n",
       "    'chances': 3,\n",
       "    'fielding': '1.000',\n",
       "    'position': {'code': '1',\n",
       "     'name': 'Pitcher',\n",
       "     'type': 'Pitcher',\n",
       "     'abbreviation': 'P'},\n",
       "    'rangeFactorPerGame': '0.60',\n",
       "    'rangeFactorPer9Inn': '1.08',\n",
       "    'innings': '25.1',\n",
       "    'games': 5,\n",
       "    'doublePlays': 0,\n",
       "    'triplePlays': 0,\n",
       "    'throwingErrors': 0}},\n",
       "  {'type': 'season',\n",
       "   'group': 'pitching',\n",
       "   'season': '2023',\n",
       "   'stats': {'gamesPlayed': 5,\n",
       "    'gamesStarted': 5,\n",
       "    'groundOuts': 31,\n",
       "    'airOuts': 20,\n",
       "    'runs': 9,\n",
       "    'doubles': 3,\n",
       "    'triples': 1,\n",
       "    'homeRuns': 3,\n",
       "    'strikeOuts': 22,\n",
       "    'baseOnBalls': 4,\n",
       "    'intentionalWalks': 0,\n",
       "    'hits': 22,\n",
       "    'hitByPitch': 0,\n",
       "    'avg': '.232',\n",
       "    'atBats': 95,\n",
       "    'obp': '.263',\n",
       "    'slg': '.379',\n",
       "    'ops': '.642',\n",
       "    'caughtStealing': 1,\n",
       "    'stolenBases': 3,\n",
       "    'stolenBasePercentage': '.750',\n",
       "    'groundIntoDoublePlay': 2,\n",
       "    'numberOfPitches': 371,\n",
       "    'era': '2.84',\n",
       "    'inningsPitched': '25.1',\n",
       "    'wins': 0,\n",
       "    'losses': 2,\n",
       "    'saves': 0,\n",
       "    'saveOpportunities': 0,\n",
       "    'holds': 0,\n",
       "    'blownSaves': 0,\n",
       "    'earnedRuns': 8,\n",
       "    'whip': '1.03',\n",
       "    'battersFaced': 99,\n",
       "    'outs': 76,\n",
       "    'gamesPitched': 5,\n",
       "    'completeGames': 0,\n",
       "    'shutouts': 0,\n",
       "    'strikes': 252,\n",
       "    'strikePercentage': '.680',\n",
       "    'hitBatsmen': 0,\n",
       "    'balks': 0,\n",
       "    'wildPitches': 2,\n",
       "    'pickoffs': 1,\n",
       "    'totalBases': 36,\n",
       "    'groundOutsToAirouts': '1.55',\n",
       "    'winPercentage': '.000',\n",
       "    'pitchesPerInning': '14.64',\n",
       "    'gamesFinished': 0,\n",
       "    'strikeoutWalkRatio': '5.50',\n",
       "    'strikeoutsPer9Inn': '7.82',\n",
       "    'walksPer9Inn': '1.42',\n",
       "    'hitsPer9Inn': '7.82',\n",
       "    'runsScoredPer9': '3.20',\n",
       "    'homeRunsPer9': '1.07',\n",
       "    'inheritedRunners': 0,\n",
       "    'inheritedRunnersScored': 0,\n",
       "    'catchersInterference': 0,\n",
       "    'sacBunts': 0,\n",
       "    'sacFlies': 0}}]}"
      ]
     },
     "execution_count": 52,
     "metadata": {},
     "output_type": "execute_result"
    }
   ],
   "source": [
    "statsapi.player_stat_data(pitcher_info[0]['id'], group=\"[hitting,pitching,fielding]\", type=\"season\", sportId=1)"
   ]
  }
 ],
 "metadata": {
  "kernelspec": {
   "display_name": "betfair",
   "language": "python",
   "name": "python3"
  },
  "language_info": {
   "codemirror_mode": {
    "name": "ipython",
    "version": 3
   },
   "file_extension": ".py",
   "mimetype": "text/x-python",
   "name": "python",
   "nbconvert_exporter": "python",
   "pygments_lexer": "ipython3",
   "version": "3.10.11"
  },
  "orig_nbformat": 4
 },
 "nbformat": 4,
 "nbformat_minor": 2
}
