{
 "cells": [
  {
   "attachments": {},
   "cell_type": "markdown",
   "metadata": {},
   "source": [
    "https://betfair-datascientists.github.io/api/apiPythontutorial/#get-market-books"
   ]
  },
  {
   "cell_type": "code",
   "execution_count": 25,
   "metadata": {},
   "outputs": [
    {
     "data": {
      "text/plain": [
       "<LoginResource>"
      ]
     },
     "execution_count": 25,
     "metadata": {},
     "output_type": "execute_result"
    }
   ],
   "source": [
    "import betfairlightweight\n",
    "from betfairlightweight import filters\n",
    "import json\n",
    "import pandas as pd\n",
    "import numpy as np\n",
    "import time\n",
    "import datetime\n",
    "import matplotlib.pyplot as plt\n",
    "\n",
    "# Save in folder certs/credentials.json with following data:\n",
    "# {\n",
    "#     \"username\" : \"your_betfair_username\",\n",
    "#     \"password\" : \"your_betfair_password\",\n",
    "#     \"app_key\" : \"your_betfair_app_key\"\n",
    "# }\n",
    "# follow the link above to get your app_key\n",
    "# Create the .PEM file following the instructions using XCA, but when exporting select crt + Key to export one .pem file\n",
    "# place this .pem file in C://certs/ (this is default location to look for key)\n",
    "\n",
    "path_creds = 'certs/credentials.json'\n",
    "path_data = 'data/'\n",
    "\n",
    "with open(path_creds) as f:\n",
    "    cred = json.load(f)\n",
    "    my_username = cred['username']\n",
    "    my_password = cred['password']\n",
    "    my_app_key = cred['app_key']\n",
    "\n",
    "# If you can't get the .pem key setup you can use this less secure way to login\n",
    "# trading = betfairlightweight.APIClient(\n",
    "#     my_username, my_password, app_key=my_app_key\n",
    "# )\n",
    "# trading.login_interactive()\n",
    "\n",
    "trading = betfairlightweight.APIClient(username=my_username,\n",
    "                                       password=my_password,\n",
    "                                       app_key=my_app_key)\n",
    "\n",
    "trading.login()\n",
    "\n"
   ]
  },
  {
   "cell_type": "code",
   "execution_count": 26,
   "metadata": {},
   "outputs": [],
   "source": [
    "# get ids for different sports\n",
    "results = trading.betting.list_event_types()\n",
    "dict_event_ids = {}\n",
    "for i in results:\n",
    "    dict_event_ids[i.event_type.name] = i.event_type.id\n"
   ]
  },
  {
   "cell_type": "code",
   "execution_count": 34,
   "metadata": {},
   "outputs": [
    {
     "name": "stdout",
     "output_type": "stream",
     "text": [
      "32443215 Washington Nationals @ San Diego Padres 3\n",
      "<class 'betfairlightweight.resources.bettingresources.EventResult'>\n",
      "32443214 Pittsburgh Pirates @ Miami Marlins 3\n",
      "<class 'betfairlightweight.resources.bettingresources.EventResult'>\n",
      "32443213 New York Mets @ Philadelphia Phillies 3\n",
      "<class 'betfairlightweight.resources.bettingresources.EventResult'>\n",
      "32443212 Arizona Diamondbacks @ San Francisco Giants 3\n",
      "<class 'betfairlightweight.resources.bettingresources.EventResult'>\n",
      "32443211 Atlanta Braves @ Cincinnati Reds 3\n",
      "<class 'betfairlightweight.resources.bettingresources.EventResult'>\n",
      "32443224 Los Angeles Angels @ Colorado Rockies 3\n",
      "<class 'betfairlightweight.resources.bettingresources.EventResult'>\n",
      "32443223 Milwaukee Brewers @ Cleveland Guardians 3\n",
      "<class 'betfairlightweight.resources.bettingresources.EventResult'>\n",
      "32443222 Houston Astros @ Los Angeles Dodgers 3\n",
      "<class 'betfairlightweight.resources.bettingresources.EventResult'>\n",
      "32443221 Minnesota Twins @ Detroit Tigers 3\n",
      "<class 'betfairlightweight.resources.bettingresources.EventResult'>\n",
      "32443220 Kansas City Royals @ Tampa Bay Rays 3\n",
      "<class 'betfairlightweight.resources.bettingresources.EventResult'>\n",
      "32443219 Texas Rangers @ New York Yankees 3\n",
      "<class 'betfairlightweight.resources.bettingresources.EventResult'>\n",
      "32443218 Oakland Athletics @ Toronto Blue Jays 3\n",
      "<class 'betfairlightweight.resources.bettingresources.EventResult'>\n",
      "32443217 Seattle Mariners @ Baltimore Orioles 3\n",
      "<class 'betfairlightweight.resources.bettingresources.EventResult'>\n",
      "32443216 Boston Red Sox @ Chicago White Sox 3\n",
      "<class 'betfairlightweight.resources.bettingresources.EventResult'>\n",
      "28131314 MLB 1\n",
      "<class 'betfairlightweight.resources.bettingresources.EventResult'>\n"
     ]
    }
   ],
   "source": [
    "# get data on basketball games 'bb'\n",
    "bb_filter = filters.market_filter(event_type_ids=[dict_event_ids['Baseball']])\n",
    "results = trading.betting.list_events(\n",
    "    filter=bb_filter\n",
    ")\n",
    "\n",
    "for i in results:\n",
    "    print(i.event.id, i.event.name, i.market_count) # event: single game, market_count: number of betting options within the game\n",
    "    print(type(i))"
   ]
  },
  {
   "cell_type": "code",
   "execution_count": 33,
   "metadata": {},
   "outputs": [
    {
     "name": "stdout",
     "output_type": "stream",
     "text": [
      "From now on investigating game 32443215, Washington Nationals @ San Diego Padres\n",
      "32443215 Washington Nationals @ San Diego Padres 3\n",
      "32443214 Pittsburgh Pirates @ Miami Marlins 3\n"
     ]
    }
   ],
   "source": [
    "# refine filter for a single game\n",
    "event_ids = [results[0].event.id, results[1].event.id]\n",
    "print(f'From now on investigating game {event_ids[0]}, {results[0].event.name}')\n",
    "bb_filter = filters.market_filter(event_ids=event_ids)\n",
    "results = trading.betting.list_events(\n",
    "    filter=bb_filter\n",
    ")\n",
    "\n",
    "# check we have the selected game\n",
    "for i in results:\n",
    "    print(i.event.id, i.event.name, i.market_count)"
   ]
  },
  {
   "cell_type": "code",
   "execution_count": 29,
   "metadata": {},
   "outputs": [
    {
     "name": "stdout",
     "output_type": "stream",
     "text": [
      "Baseball Washington Nationals @ San Diego Padres 1.215506573 Handicap 20:11 (HANDICAP) Washington Nationals\n",
      "Baseball Washington Nationals @ San Diego Padres 1.215506572 Moneyline 20:11 (MATCH_ODDS) Washington Nationals\n",
      "Baseball Washington Nationals @ San Diego Padres 1.215506596 Total Runs 20:11 (COMBINED_TOTAL) Under\n"
     ]
    }
   ],
   "source": [
    "# racing_filter = filters.market_filter(\n",
    "#     event_type_ids=[7],  # filter on just horse racing\n",
    "#     market_countries=[\"GB\"],  # filter on just GB countries\n",
    "#     market_type_codes=[\"WIN\"],  # filter on just WIN market types\n",
    "# )\n",
    "\n",
    "# Get market catelogue which contains details about different betting options called a market (but no odds)\n",
    "results = trading.betting.list_market_catalogue(\n",
    "    market_projection=[\n",
    "        \"RUNNER_DESCRIPTION\", \n",
    "        \"RUNNER_METADATA\", \n",
    "        \"COMPETITION\", \n",
    "        \"EVENT\", \n",
    "        \"EVENT_TYPE\", \n",
    "        \"MARKET_DESCRIPTION\", \n",
    "        \"MARKET_START_TIME\",\n",
    "    ],\n",
    "    filter=bb_filter,\n",
    "    max_results=100,\n",
    ")\n",
    "\n",
    "for i in results:\n",
    "    print(\n",
    "        \"{0} {1} {2} {3} {4:d}:{5:02d} ({6}) {7}\".format(\n",
    "            i.event_type.name,\n",
    "            i.event.name,\n",
    "            i.market_id,\n",
    "            i.market_name,\n",
    "            i.market_start_time.hour, \n",
    "            i.market_start_time.minute,\n",
    "            i.description.market_type,\n",
    "            i.runners[0].runner_name\n",
    "        )\n",
    "    )"
   ]
  },
  {
   "cell_type": "code",
   "execution_count": 25,
   "metadata": {},
   "outputs": [
    {
     "name": "stdout",
     "output_type": "stream",
     "text": [
      "investigating market 1.212369363, Winner\n"
     ]
    }
   ],
   "source": [
    "# get betting odds details from a single market (aka. a single betting option) - this includes odds\n",
    "market_ids = [results[0].market_id]\n",
    "market_names = [results[0].market_name]\n",
    "market_books = trading.betting.list_market_book(\n",
    "    market_ids=market_ids,\n",
    "    price_projection=filters.price_projection(\n",
    "        price_data=filters.price_data(ex_all_offers=True)\n",
    "    )\n",
    ")\n",
    "\n",
    "print(f'investigating market {market_ids[0]}, {market_names[0]}')"
   ]
  },
  {
   "cell_type": "code",
   "execution_count": 26,
   "metadata": {},
   "outputs": [
    {
     "name": "stdout",
     "output_type": "stream",
     "text": [
      "1.212369363 False OPEN 3.96\n",
      "332194 ACTIVE 1.1 0.0\n",
      "29829 ACTIVE None None\n",
      "29835 ACTIVE None None\n",
      "332212 ACTIVE None None\n",
      "332189 ACTIVE None None\n",
      "697628 ACTIVE None None\n",
      "352167 ACTIVE None None\n",
      "292295 ACTIVE None None\n",
      "29834 ACTIVE None None\n",
      "697690 ACTIVE None None\n",
      "332652 ACTIVE None None\n",
      "701627 ACTIVE None None\n",
      "13123 ACTIVE None None\n",
      "29837 ACTIVE None None\n",
      "29840 ACTIVE None None\n",
      "5132858 ACTIVE None None\n",
      "13109 ACTIVE None None\n",
      "366629 ACTIVE None None\n",
      "332193 ACTIVE None None\n",
      "711186 ACTIVE None None\n",
      "29830 ACTIVE None None\n",
      "356182 ACTIVE None None\n",
      "705559 ACTIVE None None\n",
      "29832 ACTIVE None None\n",
      "284245 ACTIVE None None\n",
      "708779 ACTIVE None None\n",
      "332209 ACTIVE None None\n",
      "697643 ACTIVE None None\n",
      "284244 ACTIVE None None\n",
      "675919 ACTIVE None None\n",
      "701622 ACTIVE None None\n",
      "352166 ACTIVE None None\n",
      "332651 ACTIVE None None\n",
      "4548275 ACTIVE None None\n",
      "29831 ACTIVE None None\n",
      "701620 ACTIVE None None\n",
      "697689 ACTIVE None None\n",
      "351829 ACTIVE None None\n",
      "332649 ACTIVE None None\n",
      "701629 ACTIVE None None\n",
      "332191 ACTIVE None None\n",
      "715470 ACTIVE None None\n",
      "284196 ACTIVE None None\n",
      "697627 ACTIVE None None\n",
      "29836 ACTIVE None None\n",
      "13116 ACTIVE None None\n",
      "715475 ACTIVE None None\n",
      "6109088 ACTIVE None None\n",
      "352102 ACTIVE None None\n",
      "332192 ACTIVE None None\n",
      "332211 ACTIVE None None\n",
      "332214 ACTIVE None None\n",
      "664419 ACTIVE None None\n",
      "711057 ACTIVE None None\n",
      "284243 ACTIVE None None\n",
      "332213 ACTIVE None None\n",
      "696997 ACTIVE None None\n",
      "712840 ACTIVE None None\n",
      "332650 ACTIVE None None\n",
      "284246 ACTIVE None None\n",
      "332190 ACTIVE None None\n",
      "671869 ACTIVE None None\n",
      "332195 ACTIVE None None\n",
      "13119 ACTIVE None None\n",
      "675922 ACTIVE None None\n",
      "708786 ACTIVE None None\n",
      "701625 ACTIVE None None\n",
      "5991319 ACTIVE None None\n",
      "119812 ACTIVE None None\n",
      "2654029 ACTIVE None None\n",
      "352410 ACTIVE None None\n",
      "690519 ACTIVE None None\n",
      "671868 ACTIVE None None\n",
      "355909 ACTIVE None None\n",
      "715477 ACTIVE None None\n",
      "701612 ACTIVE None None\n",
      "13105 ACTIVE None None\n",
      "697700 ACTIVE None None\n",
      "352409 ACTIVE None None\n",
      "705560 ACTIVE None None\n",
      "332210 ACTIVE None None\n",
      "4399083 ACTIVE None None\n",
      "715476 ACTIVE None None\n",
      "13118 ACTIVE None None\n",
      "715472 ACTIVE None None\n",
      "29838 ACTIVE None None\n",
      "710160 ACTIVE None None\n",
      "712843 ACTIVE None None\n",
      "711055 ACTIVE None None\n",
      "719433 ACTIVE None None\n",
      "697639 ACTIVE None None\n",
      "715471 ACTIVE None None\n",
      "3602702 ACTIVE None None\n",
      "352103 ACTIVE None None\n",
      "731890 ACTIVE None None\n",
      "2328616 ACTIVE None None\n",
      "735897 ACTIVE None None\n",
      "716826 ACTIVE None None\n"
     ]
    }
   ],
   "source": [
    "# extract and print the betting odds for the single market\n",
    "for market_book in market_books:\n",
    "    print(  # prints market id, inplay?, status and total matched\n",
    "        market_book.market_id,\n",
    "        market_book.inplay,\n",
    "        market_book.status,\n",
    "        market_book.total_matched,\n",
    "    )\n",
    "    for runner in market_book.runners:  \n",
    "        print (  # prints selection id, status, LPT and total matched\n",
    "            runner.selection_id, \n",
    "            runner.status, \n",
    "            runner.last_price_traded, \n",
    "            runner.total_matched\n",
    "        )"
   ]
  },
  {
   "cell_type": "code",
   "execution_count": 27,
   "metadata": {},
   "outputs": [
    {
     "data": {
      "text/plain": [
       "1.1"
      ]
     },
     "execution_count": 27,
     "metadata": {},
     "output_type": "execute_result"
    }
   ],
   "source": [
    "# example of extracting a single odd from the market\n",
    "market_book = market_books[0]\n",
    "runner = market_book.runners[0]\n",
    "\n",
    "runner.last_price_traded"
   ]
  },
  {
   "cell_type": "code",
   "execution_count": 28,
   "metadata": {},
   "outputs": [],
   "source": [
    "# function to bring it all together\n",
    "def get_market_price(market_ids):\n",
    "    \"\"\"Given a list of market_ids return details on the markets and runners\n",
    "\n",
    "    Args:\n",
    "        market_ids (list): List of market_ids (float) to get details on\n",
    "\n",
    "    Returns:\n",
    "        results_markets (DataFrame): details on the markets, eg. market_id, inplay, status, total_matched\n",
    "        results_runners (DataFrame): details on runners within each market, id, status, last_price_traded, total_matched\n",
    "    \"\"\"\n",
    "    market_books = trading.betting.list_market_book(\n",
    "        market_ids=market_ids,\n",
    "        price_projection=filters.price_projection(\n",
    "            price_data=filters.price_data(ex_all_offers=True)\n",
    "        )\n",
    "    )\n",
    "    results_markets = []\n",
    "    results_runners = []\n",
    "    for market_book in market_books:\n",
    "        results_markets.append({'market_id':market_book.market_id,\n",
    "                               'inplay':market_book.inplay,\n",
    "                               'status':market_book.status,\n",
    "                               'total_matched':market_book.total_matched\n",
    "        })\n",
    "        for runner in market_book.runners:\n",
    "            results_runners.append({'market_id':market_book.market_id,\n",
    "                                    'selection_id':runner.selection_id,\n",
    "                                    'status':runner.status,\n",
    "                                    'last_price_traded':runner.last_price_traded,\n",
    "                                    'total_matched':runner.total_matched\n",
    "            })\n",
    "    results_markets, results_runners = pd.DataFrame(results_markets), pd.DataFrame(results_runners)\n",
    "    \n",
    "    current_time = datetime.datetime.now().time().strftime(\"%H:%M:%S\")\n",
    "    results_markets['date'] = current_time\n",
    "    results_runners['date'] = current_time\n",
    "    return results_markets, results_runners\n",
    "    "
   ]
  },
  {
   "cell_type": "code",
   "execution_count": 29,
   "metadata": {},
   "outputs": [
    {
     "data": {
      "text/html": [
       "<div>\n",
       "<style scoped>\n",
       "    .dataframe tbody tr th:only-of-type {\n",
       "        vertical-align: middle;\n",
       "    }\n",
       "\n",
       "    .dataframe tbody tr th {\n",
       "        vertical-align: top;\n",
       "    }\n",
       "\n",
       "    .dataframe thead th {\n",
       "        text-align: right;\n",
       "    }\n",
       "</style>\n",
       "<table border=\"1\" class=\"dataframe\">\n",
       "  <thead>\n",
       "    <tr style=\"text-align: right;\">\n",
       "      <th></th>\n",
       "      <th>market_id</th>\n",
       "      <th>inplay</th>\n",
       "      <th>status</th>\n",
       "      <th>total_matched</th>\n",
       "      <th>date</th>\n",
       "    </tr>\n",
       "  </thead>\n",
       "  <tbody>\n",
       "    <tr>\n",
       "      <th>0</th>\n",
       "      <td>1.212369363</td>\n",
       "      <td>False</td>\n",
       "      <td>OPEN</td>\n",
       "      <td>3.96</td>\n",
       "      <td>11:35:45</td>\n",
       "    </tr>\n",
       "  </tbody>\n",
       "</table>\n",
       "</div>"
      ],
      "text/plain": [
       "     market_id  inplay status  total_matched      date\n",
       "0  1.212369363   False   OPEN           3.96  11:35:45"
      ]
     },
     "execution_count": 29,
     "metadata": {},
     "output_type": "execute_result"
    }
   ],
   "source": [
    "# print the details on the market using function\n",
    "results_market, results_runners = get_market_price(market_ids)\n",
    "results_market"
   ]
  },
  {
   "cell_type": "code",
   "execution_count": null,
   "metadata": {},
   "outputs": [],
   "source": [
    "# Bring it all together to create a regular check of the markets and save results\n",
    "\n",
    "total_mins = 2  # how long to continually check the market\n",
    "refresh_rate = 30  # seconds between data collection\n",
    "market_ids = market_ids  # what markets to investigate\n",
    "is_print_update = True   # print update for each refresh\n",
    "\n",
    "nb_loops = int(total_mins * 60 / refresh_rate)  # number of times we request and update from API\n",
    "\n",
    "# check dataframes exist, if they don't create new ones\n",
    "# we do this to ensure we don't overwrite previously recorded data if already run this jupyter cell\n",
    "try:\n",
    "    data_markets\n",
    "except NameError:\n",
    "    data_markets = pd.DataFrame(columns=['market_id', 'inplay', 'status', 'total_matched', 'date'])\n",
    "    data_runners = pd.DataFrame(columns=['market_id', 'selection_id', 'status', 'last_price_traded', 'total_matched', 'date'])\n",
    "\n",
    "# run the loop for total_mins and keep adding to DataFrame\n",
    "for loop in np.arange(nb_loops):\n",
    "    results_markets, results_runners = get_market_price(market_ids=market_ids)\n",
    "    \n",
    "    data_markets = pd.concat([data_markets, results_markets])\n",
    "    data_runners = pd.concat([data_runners, results_runners])\n",
    "    \n",
    "    if is_print_update:\n",
    "        print(f'collected data')\n",
    "        print(data_runners)\n",
    "    \n",
    "    time.sleep(refresh_rate)\n",
    "    "
   ]
  },
  {
   "cell_type": "code",
   "execution_count": 37,
   "metadata": {},
   "outputs": [
    {
     "data": {
      "image/png": "[encoded data removed]",
      "text/plain": [
       "<Figure size 640x480 with 1 Axes>"
      ]
     },
     "metadata": {},
     "output_type": "display_data"
    }
   ],
   "source": [
    "# visualise results\n",
    "plt.plot(data_markets['total_matched'].reset_index(drop=True))\n",
    "plt.title('Total Matched Bets')\n",
    "plt.xlabel('Minutes')\n",
    "plt.ylabel('GBP')\n",
    "plt.show()"
   ]
  },
  {
   "cell_type": "code",
   "execution_count": 33,
   "metadata": {},
   "outputs": [
    {
     "data": {
      "text/plain": [
       "Text(0.5, 1.0, 'Winning Odds')"
      ]
     },
     "execution_count": 33,
     "metadata": {},
     "output_type": "execute_result"
    },
    {
     "data": {
      "image/png": "[encoded data removed]",
      "text/plain": [
       "<Figure size 640x480 with 1 Axes>"
      ]
     },
     "metadata": {},
     "output_type": "display_data"
    }
   ],
   "source": [
    "# visualise results\n",
    "plt.plot(data_runners[data_runners['selection_id']==8876198]['last_price_traded'].reset_index(drop=True))\n",
    "plt.title('Winning Odds')"
   ]
  },
  {
   "cell_type": "code",
   "execution_count": 21,
   "metadata": {},
   "outputs": [
    {
     "data": {
      "text/plain": [
       "0    6270.11\n",
       "0    6270.11\n",
       "0    6270.55\n",
       "0    6281.46\n",
       "0    6281.46\n",
       "0    6283.17\n",
       "0    6423.30\n",
       "0    6423.30\n",
       "0    6423.30\n",
       "0    6427.88\n",
       "0    6461.57\n",
       "0    6494.74\n",
       "0    6496.65\n",
       "0    6892.61\n",
       "0    6898.61\n",
       "0    6898.61\n",
       "0    6898.61\n",
       "0    6954.29\n",
       "0    6954.29\n",
       "0    6954.29\n",
       "0    7027.81\n",
       "0    7705.84\n",
       "0    7705.84\n",
       "0    7731.96\n",
       "0    7710.76\n",
       "0    7731.76\n",
       "0    7731.96\n",
       "0    7822.42\n",
       "0    7825.54\n",
       "0    7858.02\n",
       "Name: total_matched, dtype: float64"
      ]
     },
     "execution_count": 21,
     "metadata": {},
     "output_type": "execute_result"
    }
   ],
   "source": [
    "data_markets['total_matched']"
   ]
  }
 ],
 "metadata": {
  "kernelspec": {
   "display_name": "betfair",
   "language": "python",
   "name": "python3"
  },
  "language_info": {
   "codemirror_mode": {
    "name": "ipython",
    "version": 3
   },
   "file_extension": ".py",
   "mimetype": "text/x-python",
   "name": "python",
   "nbconvert_exporter": "python",
   "pygments_lexer": "ipython3",
   "version": "3.10.11"
  },
  "orig_nbformat": 4
 },
 "nbformat": 4,
 "nbformat_minor": 2
}
